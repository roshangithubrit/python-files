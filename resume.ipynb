{
  "nbformat": 4,
  "nbformat_minor": 0,
  "metadata": {
    "colab": {
      "name": "resume.ipynb",
      "provenance": [],
      "authorship_tag": "ABX9TyMn9Q6T8aDGh9ANO3hGlgQL",
      "include_colab_link": true
    },
    "kernelspec": {
      "name": "python3",
      "display_name": "Python 3"
    },
    "language_info": {
      "name": "python"
    }
  },
  "cells": [
    {
      "cell_type": "markdown",
      "metadata": {
        "id": "view-in-github",
        "colab_type": "text"
      },
      "source": [
        "<a href=\"https://colab.research.google.com/github/roshangithubrit/python-files/blob/main/resume.ipynb\" target=\"_parent\"><img src=\"https://colab.research.google.com/assets/colab-badge.svg\" alt=\"Open In Colab\"/></a>"
      ]
    },
    {
      "cell_type": "code",
      "source": [
        "try:\n",
        "    import spacy\n",
        "    import json\n",
        "except Exception as e:\n",
        "    print(e)\n",
        "    \n",
        "\n",
        "class EntityGenerator(object):\n",
        "    \n",
        "    _slots__ = ['text']\n",
        "    \n",
        "    def __init__(self, text=None):\n",
        "        self.text = text\n",
        "        \n",
        "    def get(self):\n",
        "        \"\"\"\n",
        "        Return a Json\n",
        "        \"\"\"\n",
        "        nlp = spacy.load(\"en_core_web_sm\")\n",
        "        doc = nlp(self.text)\n",
        "        text = [ent.text for ent in doc.ents]\n",
        "        entity = [ent.label_ for ent in doc.ents]\n",
        "    \n",
        "        from collections import Counter\n",
        "        import json\n",
        "\n",
        "        data = Counter(zip(entity))\n",
        "        unique_entity = list(data.keys())\n",
        "        unique_entity = [x[0] for x in unique_entity]\n",
        "\n",
        "        d = {}\n",
        "        for val in unique_entity:\n",
        "            d[val] = []\n",
        "\n",
        "        for key,val in dict(zip(text, entity)).items():\n",
        "            if val in unique_entity:\n",
        "                d[val].append(key)\n",
        "        return d"
      ],
      "metadata": {
        "id": "O2JnF0wLWwhU"
      },
      "execution_count": 31,
      "outputs": []
    },
    {
      "cell_type": "code",
      "source": [
        "try:\n",
        "    import PyPDF2\n",
        "    import requests\n",
        "    import json\n",
        "except Exception:\n",
        "    pass\n",
        "\n",
        "class Resume(object):\n",
        "    def __init__(self, filename=None):\n",
        "        self.filename = filename\n",
        "        \n",
        "    def get(self):\n",
        "        \"\"\"\n",
        "        \n",
        "        \"\"\"\n",
        "        fFileObj = open(self.filename, 'rb')\n",
        "        pdfReader = PyPDF2.PdfFileReader(fFileObj)\n",
        "        pageObj = pdfReader.getPage(0)\n",
        "        print(\"Total Pages : {} \".format(pdfReader.numPages))\n",
        "\n",
        "        resume = pageObj.extractText()\n",
        "        return resume\n",
        "        "
      ],
      "metadata": {
        "id": "BNvj7UWcW2Xe"
      },
      "execution_count": 32,
      "outputs": []
    },
    {
      "cell_type": "code",
      "source": [
        "resume = Resume(filename=\"/content/Resumeee.pdf\")\n",
        "response_news = resume.get()"
      ],
      "metadata": {
        "colab": {
          "base_uri": "https://localhost:8080/"
        },
        "id": "SYxrEG3VW8vZ",
        "outputId": "7c7e269f-546f-4cb5-aa61-544eecf8c079"
      },
      "execution_count": 34,
      "outputs": [
        {
          "output_type": "stream",
          "name": "stdout",
          "text": [
            "Total Pages : 2 \n"
          ]
        }
      ]
    },
    {
      "cell_type": "code",
      "source": [
        "helper = EntityGenerator(text=response_news)\n",
        "response = helper.get()\n",
        "print(json.dumps(response , indent=3))"
      ],
      "metadata": {
        "colab": {
          "base_uri": "https://localhost:8080/"
        },
        "id": "h_IpmNjjXHi5",
        "outputId": "bd53418e-6141-42d1-cc67-4bbbb30476be"
      },
      "execution_count": 35,
      "outputs": [
        {
          "output_type": "stream",
          "name": "stdout",
          "text": [
            "{\n",
            "   \"PERSON\": [\n",
            "      \"Kumar K C\",\n",
            "      \"Bharathidasan St\",\n",
            "      \"CICS Mainframe\",\n",
            "      \"Framework\"\n",
            "   ],\n",
            "   \"ORG\": [\n",
            "      \"M.A.Nagar\",\n",
            "      \"Redhills\",\n",
            "      \"Dyooti\\nChennai\",\n",
            "      \"Application Developer\\n\",\n",
            "      \"Vel Tech Multi Tech Engineering College\",\n",
            "      \"Bachelor of Engineering\",\n",
            "      \"the Stream of Computer Science &\\nEngineering\",\n",
            "      \"Project - Intrusion Prevention and Detection\",\n",
            "      \"Anomaly Behavior\",\n",
            "      \"Online FM & Local Music\",\n",
            "      \"Adobe XD\",\n",
            "      \"Static Malware Analysis\",\n",
            "      \"Tamilnadu\\nPolice Cyber\",\n",
            "      \"LANGUAGES\\nTamil\"\n",
            "   ],\n",
            "   \"DATE\": [\n",
            "      \"March 2022\",\n",
            "      \"May 2020 - March 2022\",\n",
            "      \"June 2019 - November 2019\",\n",
            "      \"August 2015 - April 2019\"\n",
            "   ],\n",
            "   \"GPE\": [\n",
            "      \"Client\"\n",
            "   ],\n",
            "   \"FAC\": [\n",
            "      \"the App Store\"\n",
            "   ],\n",
            "   \"WORK_OF_ART\": [\n",
            "      \"the Engineering Degree\",\n",
            "      \"Hackathon(Capture The Flag\"\n",
            "   ],\n",
            "   \"ORDINAL\": [\n",
            "      \"third\"\n",
            "   ],\n",
            "   \"CARDINAL\": [\n",
            "      \"10\",\n",
            "      \"5\"\n",
            "   ],\n",
            "   \"LANGUAGE\": [\n",
            "      \"English\"\n",
            "   ]\n",
            "}\n"
          ]
        }
      ]
    }
  ]
}